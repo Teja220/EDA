{
  "nbformat": 4,
  "nbformat_minor": 0,
  "metadata": {
    "colab": {
      "provenance": [],
      "authorship_tag": "ABX9TyPeRgVTpdgvTNx2TNoa+zyq",
      "include_colab_link": true
    },
    "kernelspec": {
      "name": "python3",
      "display_name": "Python 3"
    },
    "language_info": {
      "name": "python"
    }
  },
  "cells": [
    {
      "cell_type": "markdown",
      "metadata": {
        "id": "view-in-github",
        "colab_type": "text"
      },
      "source": [
        "<a href=\"https://colab.research.google.com/github/Teja220/EDA/blob/main/21BDS0277ipynb.ipynb\" target=\"_parent\"><img src=\"https://colab.research.google.com/assets/colab-badge.svg\" alt=\"Open In Colab\"/></a>"
      ]
    },
    {
      "cell_type": "code",
      "execution_count": 1,
      "metadata": {
        "colab": {
          "base_uri": "https://localhost:8080/"
        },
        "id": "6TUP3XHa0YP0",
        "outputId": "f17be92a-a9a4-44ce-cc83-e9b001962404"
      },
      "outputs": [
        {
          "output_type": "stream",
          "name": "stdout",
          "text": [
            "Cloning into 'EDA'...\n",
            "warning: You appear to have cloned an empty repository.\n"
          ]
        }
      ],
      "source": [
        "!git clone https://github.com/Teja220/EDA.git\n"
      ]
    },
    {
      "cell_type": "code",
      "source": [
        "import pandas as pd\n",
        "\n",
        "# Load Dataset from GitHub\n",
        "github_url = \"https://raw.githubusercontent.com/Teja220/EDA/main/EDA.xlsx\"  # Replace with your actual GitHub repo link\n",
        "eda_df = pd.read_excel(github_url, sheet_name='EDA')"
      ],
      "metadata": {
        "id": "2_8iKyOG01y2"
      },
      "execution_count": 3,
      "outputs": []
    },
    {
      "cell_type": "code",
      "source": [
        "print(eda_df.head())"
      ],
      "metadata": {
        "colab": {
          "base_uri": "https://localhost:8080/"
        },
        "id": "DlYMhzXx3XoC",
        "outputId": "5bce14f4-827b-4461-afdf-146934f09eca"
      },
      "execution_count": 4,
      "outputs": [
        {
          "output_type": "stream",
          "name": "stdout",
          "text": [
            "  Symbol             Security             GICS Sector  \\\n",
            "0    MMM                   3M             Industrials   \n",
            "1    AOS          A. O. Smith             Industrials   \n",
            "2    ABT  Abbott Laboratories             Health Care   \n",
            "3   ABBV               AbbVie             Health Care   \n",
            "4    ACN            Accenture  Information Technology   \n",
            "\n",
            "                GICS Sub-Industry    Headquarters Location Date added  \\\n",
            "0        Industrial Conglomerates    Saint Paul, Minnesota 1957-03-04   \n",
            "1               Building Products     Milwaukee, Wisconsin 2017-07-26   \n",
            "2           Health Care Equipment  North Chicago, Illinois 1957-03-04   \n",
            "3                   Biotechnology  North Chicago, Illinois 2012-12-31   \n",
            "4  IT Consulting & Other Services          Dublin, Ireland 2011-07-06   \n",
            "\n",
            "       CIK      Founded  \n",
            "0    66740         1902  \n",
            "1    91142         1916  \n",
            "2     1800         1888  \n",
            "3  1551152  2013 (1888)  \n",
            "4  1467373         1989  \n"
          ]
        }
      ]
    },
    {
      "cell_type": "code",
      "source": [],
      "metadata": {
        "id": "1zUFB_Ht3nDa"
      },
      "execution_count": null,
      "outputs": []
    }
  ]
}